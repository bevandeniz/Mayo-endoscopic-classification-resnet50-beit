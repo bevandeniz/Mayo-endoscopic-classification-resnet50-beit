{
  "cells": [
    {
      "cell_type": "markdown",
      "metadata": {},
      "source": [
        "# Mayo Classification with ResNet50"
      ]
    },
    {
      "cell_type": "code",
      "execution_count": 1,
      "metadata": {
        "colab": {
          "base_uri": "https://localhost:8080/"
        },
        "id": "yX0jakA9W9WR",
        "outputId": "001948cd-9240-423b-e075-9e67edb24516"
      },
      "outputs": [
        {
          "name": "stdout",
          "output_type": "stream",
          "text": [
            "Training on GPU\n"
          ]
        }
      ],
      "source": [
        "import torch\n",
        "\n",
        "device = torch.device(\"cpu\")\n",
        "\n",
        "if torch.cuda.is_available():\n",
        "   print(\"Training on GPU\")\n",
        "   device = torch.device(\"cuda:0\")"
      ]
    },
    {
      "cell_type": "code",
      "execution_count": 2,
      "metadata": {
        "colab": {
          "base_uri": "https://localhost:8080/"
        },
        "id": "3fkCWELKLu5x",
        "outputId": "4cb46105-123b-46bd-d225-3dfe6ee9a967"
      },
      "outputs": [
        {
          "name": "stdout",
          "output_type": "stream",
          "text": [
            "Drive already mounted at /content/drive; to attempt to forcibly remount, call drive.mount(\"/content/drive\", force_remount=True).\n"
          ]
        }
      ],
      "source": [
        "from google.colab import drive\n",
        "drive.mount('/content/drive')"
      ]
    },
    {
      "cell_type": "markdown",
      "metadata": {
        "id": "gIF_zDzZ3pGt"
      },
      "source": [
        "# Training part"
      ]
    },
    {
      "cell_type": "code",
      "execution_count": 3,
      "metadata": {
        "id": "jmNSDJHxYQMQ"
      },
      "outputs": [],
      "source": [
        "import torch\n",
        "from torch import nn\n",
        "from torch.utils.data import DataLoader\n",
        "from torchvision import datasets, transforms\n",
        "import torchvision.models as models\n",
        "import numpy as np\n",
        "\n",
        "# Image data directories\n",
        "train_dir = '/content/drive/MyDrive/train_and_validation_sets'  # Replace with actual path\n",
        "test_dir = '/content/drive/MyDrive/test_set'  # Replace with actual path\n",
        "\n",
        "# Hyperparameters\n",
        "batch_size = 32\n",
        "num_classes = 4\n",
        "learning_rate = 0.001\n",
        "num_epochs = 10\n"
      ]
    },
    {
      "cell_type": "code",
      "execution_count": 4,
      "metadata": {
        "id": "XF65E_VtYX31"
      },
      "outputs": [],
      "source": [
        "# Transformations for training data\n",
        "train_transforms = transforms.Compose([\n",
        "    transforms.Resize(256),  # Resize to a larger size\n",
        "    transforms.RandomResizedCrop(224),  # Randomly crop to 224x224\n",
        "    transforms.RandomHorizontalFlip(),  # Randomly flip horizontally\n",
        "    transforms.ToTensor(),  # Convert to PyTorch tensor\n",
        "    transforms.Normalize(mean=[0.485, 0.456, 0.406], std=[0.229, 0.224, 0.225])  # Normalize based on ImageNet\n",
        "])\n",
        "\n",
        "# Transformations for test data\n",
        "val_transforms = transforms.Compose([\n",
        "    transforms.Resize(256),\n",
        "    transforms.CenterCrop(224),\n",
        "    transforms.ToTensor(),\n",
        "    transforms.Normalize(mean=[0.485, 0.456, 0.406], std=[0.229, 0.224, 0.225]) # Normalize based on ImageNet\n",
        "])\n",
        "\n",
        "# Load datasets\n",
        "train_dataset = datasets.ImageFolder(train_dir, transform=train_transforms)\n",
        "test_dataset = datasets.ImageFolder(test_dir, transform=val_transforms)\n",
        "\n",
        "# Create data loaders\n",
        "train_loader = DataLoader(train_dataset, batch_size=batch_size, shuffle=True)\n",
        "test_loader = DataLoader(test_dataset, batch_size=1, shuffle=False)\n"
      ]
    },
    {
      "cell_type": "code",
      "execution_count": 5,
      "metadata": {
        "colab": {
          "base_uri": "https://localhost:8080/"
        },
        "id": "6vfiK7UxYh9g",
        "outputId": "cf70ca06-4d55-4b01-9e4d-33fd9be9c784"
      },
      "outputs": [
        {
          "name": "stderr",
          "output_type": "stream",
          "text": [
            "/usr/local/lib/python3.10/dist-packages/torchvision/models/_utils.py:208: UserWarning: The parameter 'pretrained' is deprecated since 0.13 and may be removed in the future, please use 'weights' instead.\n",
            "  warnings.warn(\n",
            "/usr/local/lib/python3.10/dist-packages/torchvision/models/_utils.py:223: UserWarning: Arguments other than a weight enum or `None` for 'weights' are deprecated since 0.13 and may be removed in the future. The current behavior is equivalent to passing `weights=ResNet50_Weights.IMAGENET1K_V1`. You can also use `weights=ResNet50_Weights.DEFAULT` to get the most up-to-date weights.\n",
            "  warnings.warn(msg)\n"
          ]
        }
      ],
      "source": [
        "# Load pre-trained ResNet50 model\n",
        "model = models.resnet50(pretrained=True)\n",
        "\n",
        "\n",
        "# Final Layer Modification\n",
        "in_features = model.fc.in_features\n",
        "model.fc = torch.nn.Linear(in_features, num_classes)"
      ]
    },
    {
      "cell_type": "code",
      "execution_count": 6,
      "metadata": {
        "id": "vX2AV_wazfpx"
      },
      "outputs": [],
      "source": [
        "# To deal with the imbalanced problem, calculate class weights for criterion\n",
        "\n",
        "from sklearn.utils import class_weight\n",
        "labels_arr = [label.item() for _,labels in train_loader for label in labels]\n",
        "weight = class_weight.compute_class_weight(class_weight=\"balanced\", classes=np.unique(labels_arr), y=labels_arr)\n",
        "class_weights=torch.tensor(weight,dtype=torch.float).to(device)"
      ]
    },
    {
      "cell_type": "code",
      "execution_count": 7,
      "metadata": {
        "colab": {
          "base_uri": "https://localhost:8080/"
        },
        "id": "qfCfuyysYnNh",
        "outputId": "16a04700-b0b4-4aff-96b7-de7ebbc06d24"
      },
      "outputs": [
        {
          "name": "stderr",
          "output_type": "stream",
          "text": [
            "100%|██████████| 300/300 [01:16<00:00,  3.94it/s]\n"
          ]
        },
        {
          "name": "stdout",
          "output_type": "stream",
          "text": [
            "Epoch:0,Training loss:1.2020145306984584,Correct Samples:0.5241918665276329\n"
          ]
        },
        {
          "name": "stderr",
          "output_type": "stream",
          "text": [
            "100%|██████████| 300/300 [01:15<00:00,  3.97it/s]\n"
          ]
        },
        {
          "name": "stdout",
          "output_type": "stream",
          "text": [
            "Epoch:1,Training loss:1.0073182115952173,Correct Samples:0.5933263816475496\n"
          ]
        },
        {
          "name": "stderr",
          "output_type": "stream",
          "text": [
            "100%|██████████| 300/300 [01:15<00:00,  3.95it/s]\n"
          ]
        },
        {
          "name": "stdout",
          "output_type": "stream",
          "text": [
            "Epoch:2,Training loss:0.9167228366931279,Correct Samples:0.6305526590198123\n"
          ]
        },
        {
          "name": "stderr",
          "output_type": "stream",
          "text": [
            "100%|██████████| 300/300 [01:16<00:00,  3.95it/s]\n"
          ]
        },
        {
          "name": "stdout",
          "output_type": "stream",
          "text": [
            "Epoch:3,Training loss:0.8781211276849111,Correct Samples:0.6473409801876955\n"
          ]
        },
        {
          "name": "stderr",
          "output_type": "stream",
          "text": [
            "100%|██████████| 300/300 [01:15<00:00,  3.98it/s]\n"
          ]
        },
        {
          "name": "stdout",
          "output_type": "stream",
          "text": [
            "Epoch:4,Training loss:0.8624353398879369,Correct Samples:0.656830031282586\n"
          ]
        },
        {
          "name": "stderr",
          "output_type": "stream",
          "text": [
            "100%|██████████| 300/300 [01:15<00:00,  3.99it/s]\n"
          ]
        },
        {
          "name": "stdout",
          "output_type": "stream",
          "text": [
            "Epoch:5,Training loss:0.8529567189017931,Correct Samples:0.6645464025026069\n"
          ]
        },
        {
          "name": "stderr",
          "output_type": "stream",
          "text": [
            "100%|██████████| 300/300 [01:15<00:00,  3.99it/s]\n"
          ]
        },
        {
          "name": "stdout",
          "output_type": "stream",
          "text": [
            "Epoch:6,Training loss:0.8139743177096049,Correct Samples:0.6840458811261731\n"
          ]
        },
        {
          "name": "stderr",
          "output_type": "stream",
          "text": [
            "100%|██████████| 300/300 [01:15<00:00,  3.96it/s]\n"
          ]
        },
        {
          "name": "stdout",
          "output_type": "stream",
          "text": [
            "Epoch:7,Training loss:0.7996914041042328,Correct Samples:0.6852971845672575\n"
          ]
        },
        {
          "name": "stderr",
          "output_type": "stream",
          "text": [
            "100%|██████████| 300/300 [01:15<00:00,  3.99it/s]\n"
          ]
        },
        {
          "name": "stdout",
          "output_type": "stream",
          "text": [
            "Epoch:8,Training loss:0.800291121105353,Correct Samples:0.6922836287799792\n"
          ]
        },
        {
          "name": "stderr",
          "output_type": "stream",
          "text": [
            "100%|██████████| 300/300 [01:15<00:00,  3.99it/s]"
          ]
        },
        {
          "name": "stdout",
          "output_type": "stream",
          "text": [
            "Epoch:9,Training loss:0.7818378260731698,Correct Samples:0.6938477580813347\n"
          ]
        },
        {
          "name": "stderr",
          "output_type": "stream",
          "text": [
            "\n"
          ]
        }
      ],
      "source": [
        "# Define loss function, optimizer, and scheduler (optional)\n",
        "from tqdm import tqdm\n",
        "\n",
        "criterion = nn.CrossEntropyLoss(weight=class_weights)\n",
        "optimizer = torch.optim.Adam(model.parameters(), lr=learning_rate)\n",
        "\n",
        "# Use GPU\n",
        "device = torch.device(\"cuda:0\" if torch.cuda.is_available() else \"cpu\")\n",
        "model.to(device)\n",
        "\n",
        "# Train the model\n",
        "for epoch in range(num_epochs):\n",
        "    # Train loop\n",
        "    training_loss = 0.0\n",
        "    correct = 0\n",
        "    model.train()\n",
        "\n",
        "    for images, labels in tqdm(train_loader):\n",
        "        images, labels = images.to(device), labels.to(device)\n",
        "\n",
        "        output = model(images)\n",
        "        loss = criterion(output, labels)\n",
        "        optimizer.zero_grad()\n",
        "        loss.backward()\n",
        "        optimizer.step()\n",
        "\n",
        "\n",
        "        prediction = output.argmax(dim=1, keepdim=True)\n",
        "        correct += prediction.eq(labels.view_as(prediction)).sum().item()\n",
        "        training_loss += loss.item()\n",
        "\n",
        "    training_loss /= len(train_loader)\n",
        "    correct /= len(train_loader.dataset)\n",
        "    print(f'Epoch:{epoch},Training loss:{training_loss},Correct Samples:{correct}')\n"
      ]
    },
    {
      "cell_type": "code",
      "execution_count": 8,
      "metadata": {
        "id": "T6uju4N4bwRN"
      },
      "outputs": [],
      "source": [
        "import torch\n",
        "torch.save(model, 'resnet50.pth')"
      ]
    },
    {
      "cell_type": "markdown",
      "metadata": {
        "id": "g0Rkjs4k3jMe"
      },
      "source": [
        " # Evaluation"
      ]
    },
    {
      "cell_type": "code",
      "execution_count": 9,
      "metadata": {
        "id": "vzDfrjtLgCHH"
      },
      "outputs": [],
      "source": [
        "# Evaluation of the model, taken from https://github.com/GorkemP/labeled-images-for-ulcerative-colitis\n",
        "model.eval()\n",
        "val_loss = 0.0\n",
        "correct = 0\n",
        "y_true = []\n",
        "y_pred = []\n",
        "y_probs = []\n",
        "\n",
        "# Obtain predicted labels and true labels as a list\n",
        "with torch.no_grad():\n",
        "  for data, target in test_loader:\n",
        "    data, target = data.to(device), target.to(device)\n",
        "    y_true.append(target.item())\n",
        "\n",
        "    output = model(data)\n",
        "    y_probs.append(output.softmax(1).tolist()[0])\n",
        "    prediction = output.argmax(dim=1, keepdim=True)[0][0].item()\n",
        "    y_pred.append(prediction)"
      ]
    },
    {
      "cell_type": "code",
      "execution_count": 10,
      "metadata": {
        "id": "c2eP3Cx21_Mb"
      },
      "outputs": [],
      "source": [
        "# Confusion Matrix\n",
        "def confusion_matrix(test_labels,preds):# Confusion Matrix\n",
        "    from sklearn.metrics import confusion_matrix\n",
        "    import seaborn as sns\n",
        "    import matplotlib.pyplot as plt\n",
        "\n",
        "    cm = confusion_matrix(test_labels,preds)\n",
        "    sns.heatmap(cm,\n",
        "                annot=True,\n",
        "                fmt='g',\n",
        "                xticklabels=['0','1','2','3'],\n",
        "                yticklabels=['0','1','2','3'])\n",
        "\n",
        "    plt.ylabel('Actual',fontsize=13)\n",
        "    plt.xlabel('Prediction ',fontsize=13)\n",
        "    plt.title('Confusion Matrix',fontsize=17)\n",
        "    plt.show()"
      ]
    },
    {
      "cell_type": "markdown",
      "metadata": {
        "id": "XvNYNIQI4EY4"
      },
      "source": [
        "# Model evaluation"
      ]
    },
    {
      "cell_type": "code",
      "execution_count": 11,
      "metadata": {
        "colab": {
          "base_uri": "https://localhost:8080/"
        },
        "id": "iBCtOa27jDJf",
        "outputId": "8faf23ea-959f-4d5e-da51-ca56ba9f5d7f"
      },
      "outputs": [
        {
          "name": "stdout",
          "output_type": "stream",
          "text": [
            "0.7619468159395897\n"
          ]
        }
      ],
      "source": [
        "# Quadratic Weighted Kappa Score\n",
        "from sklearn.metrics import cohen_kappa_score\n",
        "\n",
        "print(cohen_kappa_score(y_true,y_pred,weights = 'quadratic'))\n"
      ]
    },
    {
      "cell_type": "code",
      "execution_count": 12,
      "metadata": {
        "colab": {
          "base_uri": "https://localhost:8080/",
          "height": 481
        },
        "id": "UqnbaIy8ynw4",
        "outputId": "c7510ce0-23a0-4360-d96e-4bfce185cc61"
      },
      "outputs": [
        {
          "data": {
            "image/png": "[encoded data removed]",
            "text/plain": [
              "<Figure size 640x480 with 2 Axes>"
            ]
          },
          "metadata": {},
          "output_type": "display_data"
        }
      ],
      "source": [
        "confusion_matrix(y_true,y_pred)"
      ]
    }
  ],
  "metadata": {
    "accelerator": "GPU",
    "colab": {
      "gpuType": "A100",
      "provenance": []
    },
    "kernelspec": {
      "display_name": "Python 3",
      "name": "python3"
    },
    "language_info": {
      "codemirror_mode": {
        "name": "ipython",
        "version": 3
      },
      "file_extension": ".py",
      "mimetype": "text/x-python",
      "name": "python",
      "nbconvert_exporter": "python",
      "pygments_lexer": "ipython3",
      "version": "3.9.7"
    }
  },
  "nbformat": 4,
  "nbformat_minor": 0
}
